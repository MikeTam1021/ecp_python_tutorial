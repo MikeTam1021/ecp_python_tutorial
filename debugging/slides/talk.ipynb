{
 "cells": [
  {
   "cell_type": "markdown",
   "metadata": {
    "slideshow": {
     "slide_type": "slide"
    }
   },
   "source": [
    "# HPC Python – Testing and Debugging\n",
    "\n",
    "---\n",
    "\n",
    "### M. Belhorn (OLCF) , W. Scullin (ALCF), R. Thomas (NERSC)\n",
    "\n",
    "ECP Annual Meeting 2018  \n",
    "Knoxville, TN  \n",
    "2018-02-05"
   ]
  },
  {
   "cell_type": "markdown",
   "metadata": {
    "slideshow": {
     "slide_type": "slide"
    }
   },
   "source": [
    "# Outline\n",
    "\n",
    "- Basic Code Quality\n",
    "    - Zen\n",
    "    - Style conventions\n",
    "    - Linting\n",
    "- Unit Testing\n",
    "    - Write meaningful tests\n",
    "    - Mocking objects\n",
    "- Online Debugging\n",
    "    - Using `pbd`\n",
    "    \n",
    "\n",
    "To run all the demos and examples on `core.nersc.gov` it is necessary to setup your environment with\n",
    "```text\n",
    "module load python/3.6-anaconda-4.4  # includes mpi4py, numpy, pylint...\n",
    "pip install --user pytest-cov mock\n",
    "```"
   ]
  },
  {
   "cell_type": "markdown",
   "metadata": {
    "slideshow": {
     "slide_type": "slide"
    }
   },
   "source": [
    "# The basics"
   ]
  },
  {
   "cell_type": "code",
   "execution_count": 1,
   "metadata": {
    "slideshow": {
     "slide_type": "slide"
    }
   },
   "outputs": [
    {
     "name": "stdout",
     "output_type": "stream",
     "text": [
      "The Zen of Python, by Tim Peters\n",
      "\n",
      "Beautiful is better than ugly.\n",
      "Explicit is better than implicit.\n",
      "Simple is better than complex.\n",
      "Complex is better than complicated.\n",
      "Flat is better than nested.\n",
      "Sparse is better than dense.\n",
      "Readability counts.\n",
      "Special cases aren't special enough to break the rules.\n",
      "Although practicality beats purity.\n",
      "Errors should never pass silently.\n",
      "Unless explicitly silenced.\n",
      "In the face of ambiguity, refuse the temptation to guess.\n",
      "There should be one-- and preferably only one --obvious way to do it.\n",
      "Although that way may not be obvious at first unless you're Dutch.\n",
      "Now is better than never.\n",
      "Although never is often better than *right* now.\n",
      "If the implementation is hard to explain, it's a bad idea.\n",
      "If the implementation is easy to explain, it may be a good idea.\n",
      "Namespaces are one honking great idea -- let's do more of those!\n"
     ]
    }
   ],
   "source": [
    "import this"
   ]
  },
  {
   "cell_type": "markdown",
   "metadata": {
    "slideshow": {
     "slide_type": "notes"
    }
   },
   "source": [
    "Sure, the Zen of python feels cliche, but it's full of really good advice and worthwhile to check-in with from time to time. Much of what I'm going to talk about covers the zen notions of readability, special cases, explicitness, and so on. The patterns are there to help."
   ]
  },
  {
   "cell_type": "markdown",
   "metadata": {
    "slideshow": {
     "slide_type": "slide"
    }
   },
   "source": [
    "# Full and accurate tests are crucial\n",
    "\n",
    "Python is **fantasticly simple and easy** thanks to features like\n",
    "- dynamic typing\n",
    "- support for mixed programming paradigms\n",
    "\n",
    "\n",
    "**...but** these features also leave Python vulnerable to **catastrophic runtime failure**.\n",
    "\n",
    "The best way to ensure your code runs successfully is to cover it with meaningful tests.\n",
    "\n",
    "Before we can get to that, however, there are some basic code quality considerations that must be met."
   ]
  },
  {
   "cell_type": "markdown",
   "metadata": {
    "slideshow": {
     "slide_type": "notes"
    }
   },
   "source": [
    "We need to run through these bare basics for both\n",
    "\n",
    "- scientist-programmers and skilled-but-amateur software engineers that may not be aware of them\n",
    "- and experienced python developers who have let them slip from active consciousness"
   ]
  },
  {
   "cell_type": "markdown",
   "metadata": {
    "slideshow": {
     "slide_type": "slide"
    }
   },
   "source": [
    "# You all adhere to [*PEP8*](https://www.python.org/dev/peps/pep-0008/), right?\n",
    "\n",
    "Consistently following community conventions goes a long way to avoiding and solving bugs.\n",
    "\n",
    "For items not covered by *PEP8*, I recommend following the [*Google Python\n",
    "Style Guide*](https://google.github.io/styleguide/pyguide.html)."
   ]
  },
  {
   "cell_type": "markdown",
   "metadata": {
    "slideshow": {
     "slide_type": "slide"
    }
   },
   "source": [
    "# Lint your code\n",
    "\n",
    "Running your code through a linter like `pylint` prior to release\n",
    "\n",
    "- ensures PEP8 compliance\n",
    "- identifies logic errors\n",
    "- identifies syntax errors\n",
    "- may catch environment errors\n",
    "\n",
    "before they become runtime failures."
   ]
  },
  {
   "cell_type": "markdown",
   "metadata": {
    "slideshow": {
     "slide_type": "notes"
    }
   },
   "source": [
    "Linting may seem obvious, but we encounter users who do not take advantage of it. It's quick, free, and can be automatically baked into most editors."
   ]
  },
  {
   "cell_type": "markdown",
   "metadata": {
    "slideshow": {
     "slide_type": "subslide"
    }
   },
   "source": [
    "## Per-project configuration\n",
    "\n",
    "- package your source code with an empty/minimal linter configuration\n",
    "\n",
    "```sh\n",
    "$ pylint --generate-rcfile | less  # these are the defaults\n",
    "$ touch .pylintrc\n",
    "```\n",
    "\n",
    "- enhance the defaults only when necessary.\n",
    "- For instance, `pylint` may need permission to introspect some C extension modules.\n",
    "\n",
    "```ini\n",
    "[MASTER]\n",
    "extension-pkg-whitelist=mpi4py,numpy\n",
    "\n",
    "[TYPECHECK]\n",
    "ignored-modules=numpy\n",
    "```"
   ]
  },
  {
   "cell_type": "markdown",
   "metadata": {
    "slideshow": {
     "slide_type": "notes"
    }
   },
   "source": [
    "It is sometimes necessary to enhance the standards. For instance, `pylint` may need permission to introspect some C extension modules."
   ]
  },
  {
   "cell_type": "markdown",
   "metadata": {
    "slideshow": {
     "slide_type": "subslide"
    }
   },
   "source": [
    "Most exceptions to the linter configuration should be done through pragmas *within the source code* because exceptions \n",
    "\n",
    "```python\n",
    "# This exception is unjustified - the linter is\n",
    "# trying to tell us this can be improved.\n",
    "HOSTFILE = 'login1 h41n10 h41n10 h41n10 h41n10 h41n10 h41n10 h41n10 h41n10 h41n10 h41n10 h41n10 h41n11 h41n11 h41n11 h41n11 h41n11 h41n11 h41n11 h41n11'  #noqa pylint: disable=line-too-long\n",
    "```"
   ]
  },
  {
   "cell_type": "markdown",
   "metadata": {
    "slideshow": {
     "slide_type": "notes"
    }
   },
   "source": [
    "`pylint` can use the default global config or it can use an over-riding configuration found in the current working directory. It is a good practice to package your source code in version control along with a stock linter configuration - all developers of the codebase should be working with the same conventions."
   ]
  },
  {
   "cell_type": "markdown",
   "metadata": {
    "slideshow": {
     "slide_type": "subslide"
    }
   },
   "source": [
    "```python\n",
    "#!/usr/bin/env python3\n",
    "'''\n",
    "A contrived example of why linting is important.\n",
    "'''\n",
    "\n",
    "from mpi4py import MPI\n",
    "\n",
    "\n",
    "def main():\n",
    "    '''Print the MPI parameters for this rank.'''\n",
    "    comm = MPI.COMM_WORLD\n",
    "    size = comm.Get_size()\n",
    "    rank = comm.Get_rank()\n",
    "    name = MPI.Get_processor_name()\n",
    "\n",
    "    padding = len(str(size))\n",
    "    print(\"Greetings from rank '{1：0{0}d}' of '{2}' on '{3}'.\".format(\n",
    "        padding, rank, size, name))\n",
    "\n",
    "\n",
    "if __name__ == '__main__':\n",
    "    main()\n",
    "```"
   ]
  },
  {
   "cell_type": "markdown",
   "metadata": {
    "slideshow": {
     "slide_type": "subslide"
    }
   },
   "source": [
    "Human eyes probably cannot see the error, but the linter does:\n",
    "\n",
    "```text\n",
    "$ pylint mpi_hello_world.py\n",
    "Using config file /home/matt/documents/jupyter/ecp/.pylintrc\n",
    "************* Module mpi_hello_world\n",
    "W: 17,10: Invalid format string (bad-format-string)\n",
    "\n",
    "------------------------------------------------------------------\n",
    "Your code has been rated at 9.00/10 (previous run: 9.00/10, +0.00)\n",
    "```\n",
    "\n",
    "Here, the `:` in the format string is actually a UTF8 look-alike glyph. While the error is still ambiguous, the exception that would have occured at runtime is more perplexing:"
   ]
  },
  {
   "cell_type": "code",
   "execution_count": 5,
   "metadata": {
    "slideshow": {
     "slide_type": "-"
    }
   },
   "outputs": [
    {
     "ename": "ValueError",
     "evalue": "unexpected '{' in field name",
     "output_type": "error",
     "traceback": [
      "\u001b[0;31m---------------------------------------------------------------------------\u001b[0m",
      "\u001b[0;31mValueError\u001b[0m                                Traceback (most recent call last)",
      "\u001b[0;32m<ipython-input-5-32f7d0225634>\u001b[0m in \u001b[0;36m<module>\u001b[0;34m()\u001b[0m\n\u001b[0;32m----> 1\u001b[0;31m \u001b[0mprint\u001b[0m\u001b[0;34m(\u001b[0m\u001b[0;34m'rank_{1：0{0}d}'\u001b[0m\u001b[0;34m.\u001b[0m\u001b[0mformat\u001b[0m\u001b[0;34m(\u001b[0m\u001b[0;36m0\u001b[0m\u001b[0;34m,\u001b[0m \u001b[0;36m1\u001b[0m\u001b[0;34m)\u001b[0m\u001b[0;34m)\u001b[0m\u001b[0;34m\u001b[0m\u001b[0m\n\u001b[0m",
      "\u001b[0;31mValueError\u001b[0m: unexpected '{' in field name"
     ]
    }
   ],
   "source": [
    "print('rank_{1：0{0}d}'.format(0, 1))"
   ]
  },
  {
   "cell_type": "markdown",
   "metadata": {
    "slideshow": {
     "slide_type": "slide"
    }
   },
   "source": [
    "# Unit Testing"
   ]
  },
  {
   "cell_type": "markdown",
   "metadata": {
    "collapsed": true,
    "slideshow": {
     "slide_type": "slide"
    }
   },
   "source": [
    "# What's a test?\n",
    "\n",
    "A set of functions that cover every possible execuction path of your code base and assert the behavior is always correct.\n",
    "\n",
    "```python\n",
    "def rotate_operator(matrix):\n",
    "    '''Prepends 90 degree rotation to linear transformation `matrix`.'''\n",
    "    return matrix.dot([[0, -1], [1, 0]])\n",
    "    \n",
    "\n",
    "def test_rotate_operator():\n",
    "    matrix = np.mat([[0, 1], [2, 3]])\n",
    "    ouput = transform_matrix(matrix)\n",
    "    assert isinstance(output, np.matrix)\n",
    "    assert (output == np.mat([[1, 0], [3, -2]])).all()\n",
    "```\n",
    "\n",
    "Good practice to regularly test critical areas of your code as it is developed, e.g. continuous integration."
   ]
  },
  {
   "cell_type": "markdown",
   "metadata": {
    "slideshow": {
     "slide_type": "subslide"
    }
   },
   "source": [
    "## Frameworks: `pytest` vs `unitttest`\n",
    "\n",
    "The standard library contains `unittest`, but I recommend `pytest`.  \n",
    "Requires installation:\n",
    "\n",
    "```sh\n",
    "pip install pytest\n",
    "pytest tests\n",
    "```\n",
    "\n",
    "but\n",
    "\n",
    "- less boilerplate in tests\n",
    "- less learning curve, uses basic `python` syntax and elements\n",
    "- shorter development time and rapid implementation\n",
    "- extensible with many plugins, such as for *coverage*, *doctests*, etc.\n",
    "\n",
    "  \n",
    "```sh\n",
    "pip install pytest-cov\n",
    "pytest --cov tests\n",
    "```"
   ]
  },
  {
   "cell_type": "markdown",
   "metadata": {
    "slideshow": {
     "slide_type": "slide"
    }
   },
   "source": [
    "## Writing tests\n",
    "\n",
    "- Pytest searches ***modules*** in the target directory for module names\n",
    "  - starting with `test_`\n",
    "  - or ending with `_test`\n",
    "- Within identified test modules, pytest treats *functions with the same prefixes as tests*.\n",
    "- Test modules can be separate from source code or side-by-side\n",
    "\n",
    "```text\n",
    "./examples/\n",
    "|-- demo/\n",
    "|   |-- __init__.py\n",
    "|   |-- demo.py\n",
    "|   |-- test_demo.py\n",
    "|-- example/\n",
    "|   |-- __init__.py\n",
    "|   |-- example.py\n",
    "|   |-- tests/\n",
    "|   |   |-- test_example.py\n",
    "```"
   ]
  },
  {
   "cell_type": "markdown",
   "metadata": {
    "slideshow": {
     "slide_type": "slide"
    }
   },
   "source": [
    "## Tests should be meaningful\n",
    "\n",
    "As long as the test function exits without raising an exception, the test is a passing success.\n",
    "\n",
    "```python\n",
    "def test_tait_bryan_rotation():\n",
    "    vector, angles, expected_vector = ...  # test fixtures\n",
    "    output = rotate_yxz_tait_bryan(vector, angles)\n",
    "    assert output is not None  # alone, this is probably useless\n",
    "    assert output == expected_vector  # better\n",
    "```\n",
    "\n",
    "Every runtime error or bug that occurs should have a test written or updated with the code base patch to prevent regression."
   ]
  },
  {
   "cell_type": "markdown",
   "metadata": {
    "slideshow": {
     "slide_type": "slide"
    }
   },
   "source": [
    "## Total flexibility in making assertions\n",
    "\n",
    "`unittest`:\n",
    "```python\n",
    "self.assertEqual(vector, expected_vector)\n",
    "self.assertIn(element, expected_vector)\n",
    "self.assertAlmostEqual(vector, expected_vector)\n",
    "```\n",
    "\n",
    "vs  \n",
    "`pytest`:\n",
    "```python\n",
    "assert vector == expected_vector\n",
    "assert element in expected_vector\n",
    "assert almost_equal(vector, expected_vector)\n",
    "\n",
    "def vectors_almost_equal(vector_a, vector_b, tolerance=0.01):\n",
    "    '''Compare vector_b is nearly equal to vector_a.'''\n",
    "    # Explicit understanding of \"almost\" is better than implicit.\n",
    "    zipped = zip(vector_a, vector_b)\n",
    "    approx = pytest.approx  # Ignore diffences near machine precision.\n",
    "    return all((a == approx(b, tolerance) for a, b in zipped))\n",
    "```"
   ]
  },
  {
   "cell_type": "markdown",
   "metadata": {
    "slideshow": {
     "slide_type": "slide"
    }
   },
   "source": [
    "## Running Tests\n",
    "\n",
    "All `pytest` needs is the path to search for test modules (default `cwd`). If keeping tests separate from source, run `pytest` from top-level package directory to ensure source modules are in the `sys.path`:\n",
    "\n",
    "```text\n",
    "$ pytest tests\n",
    "========================== test session starts =========================\n",
    "platform linux -- Python 3.6.4, pytest-3.3.2, py-1.5.0, pluggy-0.6.0\n",
    "rootdir: /home/matt/development/ecp_hpc_python/demos/testing, inifile:\n",
    "plugins: mock-1.6.3, flake8-0.9.1, cov-2.5.1\n",
    "collected 4 items                                                       \n",
    "\n",
    "tests/test_ipc.py ..                                             [ 50%]\n",
    "tests/test_linalg.py .x                                          [100%]\n",
    "\n",
    "================== 3 passed, 1 xfailed in 0.25 seconds =================\n",
    "```"
   ]
  },
  {
   "cell_type": "markdown",
   "metadata": {
    "slideshow": {
     "slide_type": "subslide"
    }
   },
   "source": [
    "Any `pytest-<X>` plugin modules in the python path will be automatically enabled and can be controlled via arguments to `pytest`. For example, to include coverage reporting with `pytest-cov`:"
   ]
  },
  {
   "cell_type": "markdown",
   "metadata": {
    "slideshow": {
     "slide_type": "-"
    }
   },
   "source": [
    "```text\n",
    "$ pytest --cov\n",
    "======================== test session starts =========================\n",
    "platform linux -- Python 3.6.4, pytest-3.3.2, py-1.5.0, pluggy-0.6.0\n",
    "rootdir: /home/matt/development/ecp_hpc_python/demos/testing, inifile:\n",
    "plugins: mock-1.6.3, flake8-0.9.1, cov-2.5.1\n",
    "collected 4 items                                                    \n",
    "\n",
    "tests/test_ipc.py ..                                           [ 50%]\n",
    "tests/test_linalg.py .s                                        [100%]\n",
    "\n",
    "----------- coverage: platform linux, python 3.6.4-final-0 -----------\n",
    "Name                   Stmts   Miss  Cover\n",
    "------------------------------------------\n",
    "__init__.py                0      0   100%\n",
    "ipc.py                    37      8    78%\n",
    "linalg.py                  8      3    62%\n",
    "tests/__init__.py          0      0   100%\n",
    "tests/test_ipc.py         21      0   100%\n",
    "tests/test_linalg.py      12      2    83%\n",
    "------------------------------------------\n",
    "TOTAL                     78     13    83%\n",
    "\n",
    "\n",
    "================ 3 passed, 1 skipped in 0.27 seconds =================\n",
    "```"
   ]
  },
  {
   "cell_type": "markdown",
   "metadata": {
    "slideshow": {
     "slide_type": "subslide"
    }
   },
   "source": [
    "Specific tests can be run by passing a specific test module path (including file suffix).\n",
    "\n",
    "- All tests in the module will be run by default\n",
    "- Specific test functions can be run by passing a full *node id*"
   ]
  },
  {
   "cell_type": "markdown",
   "metadata": {
    "slideshow": {
     "slide_type": "subslide"
    }
   },
   "source": [
    "```text\n",
    "$ pytest tests/test_linalg.py::test_fail_catastrophically\n",
    "======================== test session starts =========================\n",
    "platform linux -- Python 3.6.4, pytest-3.3.2, py-1.5.0, pluggy-0.6.0\n",
    "rootdir: /home/matt/development/ecp_hpc_python/demo_testing, inifile:\n",
    "plugins: mock-1.6.3, flake8-0.9.1, cov-2.5.1\n",
    "collected 1 item                                                     \n",
    "\n",
    "tests/test_linalg.py F                                         [100%]\n",
    "\n",
    "============================== FAILURES ==============================\n",
    "_____________________ test_fail_catastrophically _____________________\n",
    "\n",
    "    def test_fail_catastrophically():\n",
    "        '''Tests a failing function.'''\n",
    ">       output = fail_catastrophically()\n",
    "\n",
    "tests/test_linalg.py:27:\n",
    "_ _ _ _ _ _ _ _ _ _ _ _ _ _ _ _ _ _ _ _ _ _ _ _ _ _ _ _ _ _ _ _ _ _ _\n",
    "linalg.py:21: in fail_catastrophically\n",
    "    return rotate_operator(matrix)\n",
    "_ _ _ _ _ _ _ _ _ _ _ _ _ _ _ _ _ _ _ _ _ _ _ _ _ _ _ _ _ _ _ _ _ _ _\n",
    "\n",
    "matrix = [[0, 1], [2, 3]]\n",
    "\n",
    "    def rotate_operator(matrix):\n",
    "        '''Prepends 90 degree rotation to linear transformation `matrix`.'''\n",
    ">       return matrix.dot([[0, -1], [1, 0]])\n",
    "E       AttributeError: 'list' object has no attribute 'dot'\n",
    "\n",
    "linalg.py:10: AttributeError\n",
    "====================== 1 failed in 0.14 seconds ======================\n",
    "```"
   ]
  },
  {
   "cell_type": "markdown",
   "metadata": {
    "slideshow": {
     "slide_type": "slide"
    }
   },
   "source": [
    "## Fixtures and Mock Objects\n",
    "\n",
    "Static functional tests are fine, but what about everything else?  \n",
    "\n",
    "The hard part is dependency injection.  \n",
    "How do you deal with communication layers like MPI?"
   ]
  },
  {
   "cell_type": "markdown",
   "metadata": {
    "slideshow": {
     "slide_type": "fragment"
    }
   },
   "source": [
    "This isn't a problem for python web app developers testing code against\n",
    "- DBs\n",
    "- wsgi servers\n",
    "- REST webhooks, etc.\n",
    "\n",
    "HPC dependencies are not, in principle, more complex than these.  \n",
    "The solution is to provide your tests with fixtures and Mock dependency objects."
   ]
  },
  {
   "cell_type": "markdown",
   "metadata": {
    "slideshow": {
     "slide_type": "subslide"
    }
   },
   "source": [
    "## Fixtures\n",
    "\n",
    "Re-usable models, inputs, frameworks, and dependencies that your tests rely on.\n",
    "\n",
    "Simply functions that are declared to `pytest` as fixtures with a decorator.\n",
    "\n",
    "When tests that are written to take arguments, `pytest` searches for a fixture (function) of the same name and uses the return value as the argument value.\n",
    "\n",
    "Some fixtures are built-in to pytest and do not need to be imported or present in your code at all.\n",
    "\n",
    "Fixtures can accept other fixtures - allows for flexible re-use of common test dependencies.\n",
    "\n",
    "It is even possible to test fixtures."
   ]
  },
  {
   "cell_type": "markdown",
   "metadata": {
    "collapsed": true,
    "slideshow": {
     "slide_type": "subslide"
    }
   },
   "source": [
    "```python\n",
    "import pytest\n",
    "import numpy as np\n",
    "\n",
    "  @pytest.fixture\n",
    "  def fixture_matrix():\n",
    "      '''A fixture matrix that can be re-used in multiple tests.'''\n",
    "      return np.mat([[0, 1], [2, 3]])\n",
    "\n",
    "\n",
    "  def test_rotate_operator(fixture_matrix):\n",
    "      '''Tests the `rotate_operator` function.'''\n",
    "      output = rotate_operator(fixture_matrix)\n",
    "      assert isinstance(output, np.matrix)\n",
    "      assert (output == np.mat([[1, 0], [3, -2]])).all()\n",
    "```"
   ]
  },
  {
   "cell_type": "markdown",
   "metadata": {
    "slideshow": {
     "slide_type": "notes"
    }
   },
   "source": [
    "Declare a function as a pytest fixture with the decorator. Test functions normally do not take arguments, but should they declare an argument, pytest looks for a declared fixture that matches the argument name. It includes some builtin fixtures that do not need to be declared (monkeypatch, for instance which we'll see in a bit).\n",
    "\n",
    "The return value for the fixture is used when running the test."
   ]
  },
  {
   "cell_type": "markdown",
   "metadata": {
    "slideshow": {
     "slide_type": "subslide"
    }
   },
   "source": [
    "## Mock objects\n",
    "\n",
    "The should be no expectation of manually replicating the API structure and return values for all of an external service's methods. We can do this with `mock` which can emulate the interface of an external package in a safe way.\n",
    "\n",
    "Mock methods and attributes can be controlled to return exactly what is expected.\n",
    "\n",
    "Mocked objects keep track of how and with what arguments they are called, often all that matters in tests invoking external packages.\n",
    "\n",
    "```python\n",
    "Mock.assert_any_call()\n",
    "Mock.assert_called()\n",
    "Mock.assert_called_once()\n",
    "Mock.assert_called_once_with()\n",
    "Mock.assert_called_with()\n",
    "Mock.assert_has_calls()\n",
    "Mock.assert_not_called()\n",
    "Mock.call_args  # Last call arguments\n",
    "Mock.call_args_list  # List of call args over all calls\n",
    "Mock.called  # Was it called?\n",
    "Mock.call_count  # How many times?\n",
    "Mock.method_calls  # What methods were called?\n",
    "Mock.return_value  # Force the return value when called.\n",
    "```"
   ]
  },
  {
   "cell_type": "markdown",
   "metadata": {
    "slideshow": {
     "slide_type": "subslide"
    }
   },
   "source": [
    "```python\n",
    "import pytest\n",
    "from mpi4py import MPI \n",
    "from mock import Mock\n",
    "import ipc \n",
    "\n",
    "# pylint: disable=redefined-outer-name\n",
    "\n",
    "@pytest.fixture\n",
    "def mock_mpi():\n",
    "    '''A mocked MPI module.'''\n",
    "    mpi = Mock(spec=MPI)\n",
    "    mpi.COMM_WORLD = Mock(spec=MPI.COMM_WORLD)\n",
    "    return mpi \n",
    "    \n",
    "def test_mock_mpi(mock_mpi):\n",
    "    '''Tests the interface to mocked MPI.'''\n",
    "    print(dir(mock_mpi.COMM_WORLD))\n",
    "    assert hasattr(mock_mpi.COMM_WORLD, 'rank')\n",
    "    assert hasattr(mock_mpi.COMM_WORLD, 'Allgather')\n",
    "```"
   ]
  },
  {
   "cell_type": "markdown",
   "metadata": {
    "slideshow": {
     "slide_type": "subslide"
    }
   },
   "source": [
    "## Monkeypatching\n",
    "\n",
    "When code under test depends on global scope objects and singletons, use the built-in pytest fixture `monkeypatch` to replace the dependency with a mocked object while the test is run. The changes exist only for the specific test function when it is called.\n",
    "\n",
    "```python\n",
    "  def test_demo_scatter_gather(monkeypatch, mock_mpi):\n",
    "      '''Tests the ipc.demo_scatter_gather function.'''\n",
    "      monkeypatch.setattr('ipc.MPI', mock_mpi)\n",
    "      mock_mpi.COMM_WORLD.size = 2\n",
    "      mock_mpi.COMM_WORLD.rank = 1\n",
    "      ipc.demo_scatter_gather()\n",
    "      mock_mpi.COMM_WORLD.Scatter.assert_called()\n",
    "      mock_mpi.COMM_WORLD.Allgather.assert_called()\n",
    "```"
   ]
  },
  {
   "cell_type": "markdown",
   "metadata": {
    "slideshow": {
     "slide_type": "slide"
    }
   },
   "source": [
    "# Online Debugging"
   ]
  },
  {
   "cell_type": "markdown",
   "metadata": {
    "collapsed": true,
    "slideshow": {
     "slide_type": "slide"
    }
   },
   "source": [
    "Admit it, we've all done this:\n",
    "\n",
    "```python\n",
    "def buggy_function(questionable_input, **kwargs):\n",
    "   '''No, please, stop.'''\n",
    "   # ...\n",
    "   print(questionable_input)\n",
    "   # ...\n",
    "   return questionable_output\n",
    "```\n",
    "\n",
    "> There's got to be a better way!"
   ]
  },
  {
   "cell_type": "markdown",
   "metadata": {
    "slideshow": {
     "slide_type": "slide"
    }
   },
   "source": [
    "# The built-in debugger `pbd`\n",
    "\n",
    "- Interactive shell to explore runtime state, branches\n",
    "- Enter debugging shell at\n",
    "    - end of execution\n",
    "    - first unhandled exception\n",
    "    - at hardcoded break points\n",
    "- Lets you\n",
    "  - introspect/alter object states\n",
    "  - execute arbitrary python commands\n",
    "  - Step through lines or functions individually\n",
    "  - Continue running up to specific function calls\n",
    "  \n",
    "Some caveats when used in an HPC environment."
   ]
  },
  {
   "cell_type": "markdown",
   "metadata": {
    "slideshow": {
     "slide_type": "slide"
    }
   },
   "source": [
    "## Getting started\n",
    "\n",
    "The `pdb` module is part of the standard library.  \n",
    "There are several ways to get from runtime execution into a `pdb` shell:\n",
    "\n",
    "### Run application directly under the debugger\n",
    "\n",
    "```text\n",
    "$ python -m pdb [-c continue] mpi_hello_world.py \n",
    "> /home/matt/documents/jupyter/ecp/mpi_hello_world.py(4)<module>()\n",
    "-> '''\n",
    "(Pdb) \n",
    "```"
   ]
  },
  {
   "cell_type": "markdown",
   "metadata": {
    "slideshow": {
     "slide_type": "subslide"
    }
   },
   "source": [
    "### Via interactive python session\n",
    "\n",
    "Start `pdb` and connect it to the `sys.last_traceback`.\n",
    "\n",
    "```text\n",
    "$ mpiexec -n 2 python -i mpi_hello_world_pm.py\n",
    ">>> Traceback (most recent call last):\n",
    "Traceback (most recent call last):\n",
    "  File \"mpi_hello_world_pm.py\", line 22, in <module>\n",
    "    main()\n",
    "  File \"mpi_hello_world_pm.py\", line 18, in main\n",
    "    print(template.format(padding, rank, size, name))\n",
    "ValueError: unexpected '{' in field name\n",
    ">>> import pdb; pdb.pm()\n",
    "> /home/matt/documents/ecp/hpc_python/mpi_hello_world_pm.py(18)main()\n",
    "-> print(template.format(padding, rank, size, name))\n",
    "(Pdb) print(rank, size)\n",
    "0 2\n",
    "(Pdb) print(template)\n",
    "Greetings from rank '{1：0{0}d}' of '{2}' on '{3}'.\n",
    "(Pdb) ':' in template\n",
    "False\n",
    "(Pdb)\n",
    "```"
   ]
  },
  {
   "cell_type": "markdown",
   "metadata": {
    "slideshow": {
     "slide_type": "notes"
    }
   },
   "source": [
    "This will start an interactive python shell on each rank - usually only possible to connect to pdb session started from rank 0."
   ]
  },
  {
   "cell_type": "markdown",
   "metadata": {
    "slideshow": {
     "slide_type": "subslide"
    }
   },
   "source": [
    "Running `python -i` directly under MPI tends to break readline, breaking history and arrow key support in `pdb`.\n",
    "\n",
    "The `stdin` is typically only directed to rank 0. If in the likely event the exception occurs on a different rank, this is not too helpful. In some cases, if the rank where failure occurs is known (see next slide), it **may be** possible to attach to `pdb` there with variations of\n",
    "\n",
    "```text\n",
    "mpiexec -stdin 1 -n 2 python -i mpi_scatter_gather.py\n",
    "srun -N 1 -n 2 -i 1 python -i mpi_scatter_gather.py\n",
    "```\n",
    "\n",
    "Although many bespoke HPC application launchers and configurations prevent reliable `stdin` redirection. Try to debug on smaller resources before scaling up. An alternative **HPC-unfriendly** workaround is to launch a terminal under MPI that invokes the python command:\n",
    "\n",
    "```text\n",
    "mpiexec -n 2 xterm -e \"python -i mpi_scatter_gather.py\"\n",
    "```\n",
    "\n",
    "Again, not typically possible to connect to terminals launched this way on many HPC resources."
   ]
  },
  {
   "cell_type": "markdown",
   "metadata": {
    "slideshow": {
     "slide_type": "subslide"
    }
   },
   "source": [
    "Discover what node raises an exception during a catastrophic crash:\n",
    "\n",
    "```python\n",
    "from mpi4py import MPI\n",
    "\n",
    "#...\n",
    "\n",
    "if __name__ == '__main__':\n",
    "    try:\n",
    "        main()\n",
    "    except Exception as err:\n",
    "        print('Failure occured on rank '%s' % MPI.COMM_WORLD.rank')\n",
    "        raise err\n",
    "```"
   ]
  },
  {
   "cell_type": "markdown",
   "metadata": {
    "slideshow": {
     "slide_type": "subslide"
    }
   },
   "source": [
    "### Invoke shell from within the application\n",
    "\n",
    "```python\n",
    "# Hard-code a breakpoint where you want to start debugging.\n",
    "import pdb; pbd.set_trace()\n",
    "```\n",
    "\n",
    "- Usually only possible to interact with `pdb` on one rank (0) - entering `pdb` from all ranks will hang at first MPI blocking operation.\n",
    "If using MPI, only connect to debugger on one rank:\n",
    "\n",
    "```python\n",
    "if comm.rank == 0:\n",
    "    import pdb; pdb.set_trace()  # noqa pylint: disable=multiple-statements\n",
    "```\n",
    "\n",
    "or obtain a interactive terminal for each rank (again, not practical on most HPC resources).\n"
   ]
  },
  {
   "cell_type": "markdown",
   "metadata": {
    "slideshow": {
     "slide_type": "subslide"
    }
   },
   "source": [
    "### Other methods\n",
    "\n",
    "- Run specific code blocks with `pdb.run()`\n",
    "- Enter `pdb` from failed unit tests `pytest -x --pdb ...`"
   ]
  },
  {
   "cell_type": "markdown",
   "metadata": {
    "slideshow": {
     "slide_type": "slide"
    }
   },
   "source": [
    "## Getting our bearings\n",
    "\n",
    "- `(Pdb) help`\n",
    "- `[l]ist`, `ll`/`longlist`: List code around current step frame\n",
    "- `[w]here`: Show location of current frame in the stack\n",
    "- `display <expression>`: show evaluation of expression at each step\n",
    "- `source <object>`: Show (if possible) the source code of `<object>`"
   ]
  },
  {
   "cell_type": "markdown",
   "metadata": {
    "slideshow": {
     "slide_type": "slide"
    }
   },
   "source": [
    "## Moving about the code\n",
    "\n",
    "- `[s]tep`: Execute into next function call or line\n",
    "- `[r]eturn`: Execute to return of current function\n",
    "- `[n]ext`: Execute to next line of instructions, stepping over function calls\n",
    "- `[unt]il`: Execute to next greatest line number in source (step out of loops)\n",
    "- `[cont]inue`: Execute to next breakpoint\n",
    "- `run`, `restart`: Restart the debugged program, possibly with new `sys.argv`\n",
    "\n",
    "## Moving about the stack frame (function scope)\n",
    "- `[u]p`: Execute until location moves up the frame stack\n",
    "- `[d]own`: Execute until location moves down the frame stack\n"
   ]
  },
  {
   "cell_type": "markdown",
   "metadata": {
    "slideshow": {
     "slide_type": "slide"
    }
   },
   "source": [
    "\n",
    "## Introspecting runtime state\n",
    "\n",
    "- `[a]rgs`: Print argument names and values of current function call frame\n",
    "- `p`, `pp`:Print/pretty-print objects in the stack"
   ]
  },
  {
   "cell_type": "markdown",
   "metadata": {
    "slideshow": {
     "slide_type": "slide"
    }
   },
   "source": [
    "## Breakpoints\n",
    "\n",
    "- `[b]reak`: List or set breakpoints at line, function, condition\n",
    "- `condition`: Set/remove conditions that must be met to honor breakpoint\n",
    "- `[cl]ear`: Remove breakpoints\n",
    "- `commands`: Set list of commands to be run when encountering breakpoint\n",
    "- `disable`/`enable`: Disable/enables set of breakpoints\n"
   ]
  },
  {
   "cell_type": "markdown",
   "metadata": {
    "slideshow": {
     "slide_type": "subslide"
    }
   },
   "source": [
    "```text\n",
    "(Pdb) break 23\n",
    "Breakpoint 1 at /home/matt/documents/jupyter/ecp/mpi_scatter_gather.py:23\n",
    "(Pdb) break 49\n",
    "Breakpoint 2 at /home/matt/documents/jupyter/ecp/mpi_scatter_gather.py:49 \n",
    "(Pdb) break show_data_state\n",
    "Breakpoint 3 at /home/matt/documents/jupyter/ecp/mpi_scatter_gather.py:17\n",
    "(Pdb) break rank_print, local_data[-1] > 0 and rank == 2\n",
    "Breakpoint 4 at /home/matt/documents/jupyter/ecp/mpi_scatter_gather.py:11\n",
    "(Pdb) break\n",
    "Num Type         Disp Enb   Where\n",
    "1   breakpoint   keep yes   at /home/matt/documents/jupyter/ecp/mpi_scatter_gather.py:23\n",
    "2   breakpoint   keep yes   at /home/matt/documents/jupyter/ecp/mpi_scatter_gather.py:49 \n",
    "3   breakpoint   keep yes   at /home/matt/documents/jupyter/ecp/mpi_scatter_gather.py:17\n",
    "4   breakpoint   keep yes   at /home/matt/documents/jupyter/ecp/mpi_scatter_gather.py:11\n",
    "        stop only if local_data[-1] > 0 and rank == 2\n",
    "```"
   ]
  },
  {
   "cell_type": "markdown",
   "metadata": {
    "slideshow": {
     "slide_type": "slide"
    }
   },
   "source": [
    "# Feel free to play with the demo code on Cori\n",
    "\n",
    "Basic login and setup:\n",
    "```text\n",
    "ssh $TRAINACCT@cori.nersc.gov\n",
    "salloc -N 1 -q regular -t 240 -C haswell -A \"ntrain\" --reservation=\"ecp_python\" -L SCRATCH\n",
    "module load python/3.6-anaconda-4.4\n",
    "pip install --user pytest-cov mock\n",
    "git clone https://gitlab.com/matt.belhorn/ecp_hpc_python.git\n",
    "```\n",
    "\n",
    "Running MPI example entering `pdb`:\n",
    "```text\n",
    "cd $HOME/ecp_hpc_python/demos\n",
    "srun -n 2 -c 32 python launch_pdb_via_trace.py\n",
    "```\n",
    "\n",
    "Running unit tests:\n",
    "```text\n",
    "cd $HOME/ecp_hpc_python/demos/testing\n",
    "pytest --cov tests\n",
    "```"
   ]
  },
  {
   "cell_type": "markdown",
   "metadata": {
    "slideshow": {
     "slide_type": "slide"
    }
   },
   "source": [
    "# Questions, comments?"
   ]
  }
 ],
 "metadata": {
  "celltoolbar": "Slideshow",
  "kernelspec": {
   "display_name": "Python 3",
   "language": "python",
   "name": "python3"
  },
  "language_info": {
   "codemirror_mode": {
    "name": "ipython",
    "version": 3
   },
   "file_extension": ".py",
   "mimetype": "text/x-python",
   "name": "python",
   "nbconvert_exporter": "python",
   "pygments_lexer": "ipython3",
   "version": "3.6.4"
  }
 },
 "nbformat": 4,
 "nbformat_minor": 2
}
